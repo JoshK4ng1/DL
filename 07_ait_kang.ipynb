{
  "nbformat": 4,
  "nbformat_minor": 0,
  "metadata": {
    "anaconda-cloud": {},
    "kernelspec": {
      "display_name": "Python 3",
      "language": "python",
      "name": "python3"
    },
    "language_info": {
      "codemirror_mode": {
        "name": "ipython",
        "version": 3
      },
      "file_extension": ".py",
      "mimetype": "text/x-python",
      "name": "python",
      "nbconvert_exporter": "python",
      "pygments_lexer": "ipython3",
      "version": "3.6.6"
    },
    "colab": {
      "provenance": [],
      "include_colab_link": true
    },
    "accelerator": "GPU"
  },
  "cells": [
    {
      "cell_type": "markdown",
      "metadata": {
        "id": "view-in-github",
        "colab_type": "text"
      },
      "source": [
        "<a href=\"https://colab.research.google.com/github/JoshK4ng1/DL/blob/main/07_ait_kang.ipynb\" target=\"_parent\"><img src=\"https://colab.research.google.com/assets/colab-badge.svg\" alt=\"Open In Colab\"/></a>"
      ]
    },
    {
      "cell_type": "markdown",
      "metadata": {
        "id": "cW-EyI5Lxpqi"
      },
      "source": [
        "# Copyright\n",
        "\n",
        "<PRE>\n",
        "Copyright (c) 2024 Bálint Gyires-Tóth - All Rights Reserved\n",
        "You may use and modify this code for research and development purpuses.\n",
        "Using this code for educational purposes (self-paced or instructor led) without the permission of the author is prohibited.\n",
        "</PRE>"
      ]
    },
    {
      "cell_type": "markdown",
      "source": [
        "# Convolutional Neural Network exercise\n",
        "\n",
        "In this notebook, you will build a convolutional neural network, which offers superior results over the previous MLP solution. Additionally, you will perform a more detailed evaluation."
      ],
      "metadata": {
        "id": "3EX4cCa4WKJu"
      }
    },
    {
      "cell_type": "code",
      "source": [
        "# imports\n",
        "from tensorflow.keras.datasets import cifar10\n",
        "from tensorflow.keras.utils import to_categorical\n",
        "import numpy as np\n",
        "import matplotlib.pyplot as plt\n",
        "from tensorflow.keras.models import Sequential\n",
        "from tensorflow.keras.layers import Dense, Conv2D, MaxPool2D, Flatten, Dropout, BatchNormalization\n",
        "from tensorflow.keras.initializers import HeNormal\n",
        "from tensorflow.keras.callbacks import EarlyStopping"
      ],
      "metadata": {
        "id": "GdCMhy4HA2qd"
      },
      "execution_count": null,
      "outputs": []
    },
    {
      "cell_type": "markdown",
      "source": [
        "# 1. Data\n",
        "The dataset we will use is the well-known CIFAR10 (Canadian Institute For Advanced Research). Explore the details on the Keras website first: https://keras.io/api/datasets/cifar10/\n",
        "\n",
        "There isn't much difference between the data preprocessing part and the one we did before. The only difference is that we don't have to reshape images into vectors, but we are working with a 4 dimensional data structure, where the dimensions are: batch, X, Y, and color channels.\n",
        "\n",
        "In the event that anything is not clear regarding the data preparation part, please check the previous CIFAR10 notebook."
      ],
      "metadata": {
        "id": "yY9fztIeWIKt"
      }
    },
    {
      "cell_type": "code",
      "source": [
        "(X_train, Y_train), (X_test, Y_test) = cifar10.load_data()"
      ],
      "metadata": {
        "id": "bez7q0eiWQCK",
        "colab": {
          "base_uri": "https://localhost:8080/"
        },
        "outputId": "f2bf00ec-09a9-4c96-9de3-89c22711a4c5"
      },
      "execution_count": null,
      "outputs": [
        {
          "output_type": "stream",
          "name": "stdout",
          "text": [
            "Downloading data from https://www.cs.toronto.edu/~kriz/cifar-10-python.tar.gz\n",
            "170498071/170498071 [==============================] - 4s 0us/step\n"
          ]
        }
      ]
    },
    {
      "cell_type": "code",
      "source": [
        "# it is in int8 format, the neural network requires float32\n",
        "X_train = X_train.astype(\"float32\")\n",
        "X_test = X_test.astype(\"float32\")"
      ],
      "metadata": {
        "id": "vukOcBM0XzSj"
      },
      "execution_count": null,
      "outputs": []
    },
    {
      "cell_type": "code",
      "source": [
        "train_ratio  = 0.8\n",
        "train_length = X_train.shape[0]\n",
        "train_split  = int(train_ratio*train_length)\n",
        "X_valid, Y_valid = X_train[train_split:], Y_train[train_split:]\n",
        "X_train, Y_train = X_train[:train_split], Y_train[:train_split]"
      ],
      "metadata": {
        "id": "mRwuWxxIxLgN"
      },
      "execution_count": null,
      "outputs": []
    },
    {
      "cell_type": "code",
      "source": [
        "mean = X_train.mean(axis=0)\n",
        "std  = X_train.std(axis=0)\n",
        "\n",
        "X_train = (X_train-mean)/std\n",
        "X_valid = (X_valid-mean)/std\n",
        "X_test  = (X_test-mean)/std"
      ],
      "metadata": {
        "id": "2ESLP1EIyB2J"
      },
      "execution_count": null,
      "outputs": []
    },
    {
      "cell_type": "code",
      "source": [
        "nb_classes = len(np.unique(Y_train))\n",
        "Y_train = to_categorical(Y_train, nb_classes)\n",
        "Y_valid = to_categorical(Y_valid, nb_classes)\n",
        "Y_test  = to_categorical(Y_test, nb_classes)"
      ],
      "metadata": {
        "id": "xwZ4OJ6I8lba"
      },
      "execution_count": null,
      "outputs": []
    },
    {
      "cell_type": "code",
      "source": [
        "print(\"Shapes of the training, validation and test input data:\", X_train.shape, X_valid.shape, X_test.shape)\n",
        "print(\"Shapes of the training, validation and test output data:\", Y_train.shape, Y_valid.shape, Y_test.shape)\n",
        "print(\"Mean values of the training, validation and test input data:\", X_train.mean(), X_valid.mean(), X_test.mean())\n",
        "print(\"Standard deviation of the training, validation and test input data:\", X_train.std(), X_valid.std(), X_test.std())"
      ],
      "metadata": {
        "id": "O_jdJVcvX0vi",
        "colab": {
          "base_uri": "https://localhost:8080/"
        },
        "outputId": "53a19c6e-5736-4a7f-c992-87b5ddfd78a0"
      },
      "execution_count": null,
      "outputs": [
        {
          "output_type": "stream",
          "name": "stdout",
          "text": [
            "Shapes of the training, validation and test input data: (40000, 32, 32, 3) (10000, 32, 32, 3) (10000, 32, 32, 3)\n",
            "Shapes of the training, validation and test output data: (40000, 10) (10000, 10) (10000, 10)\n",
            "Mean values of the training, validation and test input data: 2.2788842e-09 0.0023437198 0.013331206\n",
            "Standard deviation of the training, validation and test input data: 1.0000023 0.9965626 0.99783075\n"
          ]
        }
      ]
    },
    {
      "cell_type": "markdown",
      "metadata": {
        "id": "cJ14oyZExpqj"
      },
      "source": [
        "# 2. Exercise: training"
      ]
    },
    {
      "cell_type": "markdown",
      "source": [
        "Create and train a convolutional neural network with the following requirements:\n",
        "* apply early stopping with patience=5 and monitor the validation accuracy, don't forget to load back the best weights after early stopping\n",
        "* the number of trainable parameters is lower than 200.000\n",
        "* the validation accuracy must be higher than 72%\n",
        "\n",
        "Hints:\n",
        "* you can always inspect the number of trainable parameters per layer with model.summary()\n",
        "* usually the most trainable parameters are between the last convolutional layer and the next dense layer -- so you should have a reasonable output size at the last convolutional layer\n",
        "* regularization helps (e.g. DropOut and/or BatchNormalization)\n",
        "* use the right activation function at the output layer and the corresponding loss function\n",
        "* for the chosen activation functions, please use the appropriate initialization method\n",
        "* you can match the dimension of the last conv/pooling layer to the next dense layer with e.g. Flatten()\n",
        "* ADAM optimizer is a reasonable choice\n",
        "* don't forget to turn on GPU support in Colab, otherwise, it would be quite slow to train the networks\n",
        "\n"
      ],
      "metadata": {
        "id": "j1tGVPdD-pp3"
      }
    },
    {
      "cell_type": "code",
      "source": [
        "es = EarlyStopping(monitor='val_accuracy', patience=5, restore_best_weights=True) # early stopping"
      ],
      "metadata": {
        "id": "5dBQxJHIHrbd"
      },
      "execution_count": null,
      "outputs": []
    },
    {
      "cell_type": "code",
      "source": [
        "from tensorflow.keras.models import Sequential\n",
        "from tensorflow.keras.layers import Conv2D, MaxPooling2D, Flatten, Dense, Dropout\n",
        "from tensorflow.keras.optimizers import Adam\n",
        "\n",
        "# model definition\n",
        "model = Sequential([\n",
        "    Conv2D(32, kernel_size=(3, 3), activation='relu', input_shape=(32, 32, 3)),\n",
        "    MaxPooling2D(pool_size=(2, 2)),\n",
        "    Dropout(0.25),\n",
        "\n",
        "    Conv2D(64, (3, 3), activation='relu'),\n",
        "    MaxPooling2D(pool_size=(2, 2)),\n",
        "    Dropout(0.25),\n",
        "\n",
        "    Flatten(),\n",
        "    Dense(128, activation='relu'),\n",
        "    Dropout(0.5),\n",
        "    Dense(10, activation='softmax')\n",
        "])\n",
        "\n",
        "# loss function and optimizer\n",
        "model.compile(optimizer=Adam(),\n",
        "              loss='categorical_crossentropy',\n",
        "              metrics=['accuracy'])"
      ],
      "metadata": {
        "id": "PuxHOqLt-3Nd"
      },
      "execution_count": null,
      "outputs": []
    },
    {
      "cell_type": "code",
      "source": [
        "model.summary()"
      ],
      "metadata": {
        "id": "5eomQw8uE9Ix"
      },
      "execution_count": null,
      "outputs": []
    },
    {
      "cell_type": "markdown",
      "source": [
        "Please, check the number of trainable paramers:"
      ],
      "metadata": {
        "id": "8tIbIIeTEI41"
      }
    },
    {
      "cell_type": "code",
      "source": [
        "print(\"#trainable parameters:\",model.count_params())"
      ],
      "metadata": {
        "id": "xdBAG7EJETlX",
        "colab": {
          "base_uri": "https://localhost:8080/"
        },
        "outputId": "8475ebbb-bae1-4f94-814e-b137d79eaf62"
      },
      "execution_count": null,
      "outputs": [
        {
          "output_type": "stream",
          "name": "stdout",
          "text": [
            "#trainable parameters: 315722\n"
          ]
        }
      ]
    },
    {
      "cell_type": "code",
      "source": [
        "# training\n",
        "network_history = model.fit(X_train, Y_train,\n",
        "                            batch_size=64,\n",
        "                            epochs=100,\n",
        "                            validation_split=0.2,\n",
        "                            callbacks=[es])"
      ],
      "metadata": {
        "id": "u8tFNCNVHyt9",
        "colab": {
          "base_uri": "https://localhost:8080/"
        },
        "outputId": "f4fbaff8-e489-4c3b-dd8b-440a602a4d74"
      },
      "execution_count": null,
      "outputs": [
        {
          "output_type": "stream",
          "name": "stdout",
          "text": [
            "Epoch 1/100\n",
            "500/500 [==============================] - 8s 6ms/step - loss: 1.7850 - accuracy: 0.3425 - val_loss: 1.4615 - val_accuracy: 0.4844\n",
            "Epoch 2/100\n",
            "500/500 [==============================] - 2s 4ms/step - loss: 1.4611 - accuracy: 0.4748 - val_loss: 1.2555 - val_accuracy: 0.5549\n",
            "Epoch 3/100\n",
            "500/500 [==============================] - 2s 4ms/step - loss: 1.3282 - accuracy: 0.5248 - val_loss: 1.1796 - val_accuracy: 0.5878\n",
            "Epoch 4/100\n",
            "500/500 [==============================] - 2s 4ms/step - loss: 1.2439 - accuracy: 0.5618 - val_loss: 1.1008 - val_accuracy: 0.6214\n",
            "Epoch 5/100\n",
            "500/500 [==============================] - 3s 6ms/step - loss: 1.1713 - accuracy: 0.5879 - val_loss: 1.0799 - val_accuracy: 0.6210\n",
            "Epoch 6/100\n",
            "500/500 [==============================] - 2s 4ms/step - loss: 1.1276 - accuracy: 0.6044 - val_loss: 1.0249 - val_accuracy: 0.6467\n",
            "Epoch 7/100\n",
            "500/500 [==============================] - 2s 5ms/step - loss: 1.0873 - accuracy: 0.6196 - val_loss: 0.9877 - val_accuracy: 0.6586\n",
            "Epoch 8/100\n",
            "500/500 [==============================] - 2s 5ms/step - loss: 1.0597 - accuracy: 0.6265 - val_loss: 0.9472 - val_accuracy: 0.6720\n",
            "Epoch 9/100\n",
            "500/500 [==============================] - 2s 5ms/step - loss: 1.0304 - accuracy: 0.6371 - val_loss: 0.9300 - val_accuracy: 0.6824\n",
            "Epoch 10/100\n",
            "500/500 [==============================] - 3s 5ms/step - loss: 0.9892 - accuracy: 0.6520 - val_loss: 0.9388 - val_accuracy: 0.6736\n",
            "Epoch 11/100\n",
            "500/500 [==============================] - 2s 5ms/step - loss: 0.9715 - accuracy: 0.6580 - val_loss: 0.8991 - val_accuracy: 0.6921\n",
            "Epoch 12/100\n",
            "500/500 [==============================] - 2s 5ms/step - loss: 0.9525 - accuracy: 0.6653 - val_loss: 0.8939 - val_accuracy: 0.6982\n",
            "Epoch 13/100\n",
            "500/500 [==============================] - 2s 5ms/step - loss: 0.9304 - accuracy: 0.6757 - val_loss: 0.9025 - val_accuracy: 0.6904\n",
            "Epoch 14/100\n",
            "500/500 [==============================] - 2s 5ms/step - loss: 0.9112 - accuracy: 0.6789 - val_loss: 0.8804 - val_accuracy: 0.7005\n",
            "Epoch 15/100\n",
            "500/500 [==============================] - 3s 6ms/step - loss: 0.9008 - accuracy: 0.6815 - val_loss: 0.8586 - val_accuracy: 0.7056\n",
            "Epoch 16/100\n",
            "500/500 [==============================] - 2s 4ms/step - loss: 0.8796 - accuracy: 0.6862 - val_loss: 0.8755 - val_accuracy: 0.7053\n",
            "Epoch 17/100\n",
            "500/500 [==============================] - 2s 5ms/step - loss: 0.8646 - accuracy: 0.6952 - val_loss: 0.8588 - val_accuracy: 0.7084\n",
            "Epoch 18/100\n",
            "500/500 [==============================] - 2s 5ms/step - loss: 0.8529 - accuracy: 0.6987 - val_loss: 0.8446 - val_accuracy: 0.7121\n",
            "Epoch 19/100\n",
            "500/500 [==============================] - 2s 4ms/step - loss: 0.8369 - accuracy: 0.7041 - val_loss: 0.8348 - val_accuracy: 0.7146\n",
            "Epoch 20/100\n",
            "500/500 [==============================] - 3s 6ms/step - loss: 0.8324 - accuracy: 0.7062 - val_loss: 0.8289 - val_accuracy: 0.7140\n",
            "Epoch 21/100\n",
            "500/500 [==============================] - 2s 4ms/step - loss: 0.8111 - accuracy: 0.7148 - val_loss: 0.8313 - val_accuracy: 0.7197\n",
            "Epoch 22/100\n",
            "500/500 [==============================] - 2s 5ms/step - loss: 0.8017 - accuracy: 0.7171 - val_loss: 0.8414 - val_accuracy: 0.7117\n",
            "Epoch 23/100\n",
            "500/500 [==============================] - 2s 5ms/step - loss: 0.7926 - accuracy: 0.7203 - val_loss: 0.8264 - val_accuracy: 0.7190\n",
            "Epoch 24/100\n",
            "500/500 [==============================] - 2s 5ms/step - loss: 0.7779 - accuracy: 0.7244 - val_loss: 0.8191 - val_accuracy: 0.7251\n",
            "Epoch 25/100\n",
            "500/500 [==============================] - 3s 6ms/step - loss: 0.7769 - accuracy: 0.7249 - val_loss: 0.8361 - val_accuracy: 0.7164\n",
            "Epoch 26/100\n",
            "500/500 [==============================] - 2s 4ms/step - loss: 0.7665 - accuracy: 0.7298 - val_loss: 0.8255 - val_accuracy: 0.7200\n",
            "Epoch 27/100\n",
            "500/500 [==============================] - 2s 4ms/step - loss: 0.7554 - accuracy: 0.7328 - val_loss: 0.8165 - val_accuracy: 0.7254\n",
            "Epoch 28/100\n",
            "500/500 [==============================] - 2s 4ms/step - loss: 0.7428 - accuracy: 0.7356 - val_loss: 0.8249 - val_accuracy: 0.7196\n",
            "Epoch 29/100\n",
            "500/500 [==============================] - 2s 4ms/step - loss: 0.7453 - accuracy: 0.7379 - val_loss: 0.8075 - val_accuracy: 0.7279\n",
            "Epoch 30/100\n",
            "500/500 [==============================] - 3s 6ms/step - loss: 0.7328 - accuracy: 0.7384 - val_loss: 0.8047 - val_accuracy: 0.7231\n",
            "Epoch 31/100\n",
            "500/500 [==============================] - 2s 5ms/step - loss: 0.7211 - accuracy: 0.7433 - val_loss: 0.8090 - val_accuracy: 0.7279\n",
            "Epoch 32/100\n",
            "500/500 [==============================] - 2s 4ms/step - loss: 0.7252 - accuracy: 0.7423 - val_loss: 0.8250 - val_accuracy: 0.7249\n",
            "Epoch 33/100\n",
            "500/500 [==============================] - 2s 5ms/step - loss: 0.7169 - accuracy: 0.7441 - val_loss: 0.8224 - val_accuracy: 0.7240\n",
            "Epoch 34/100\n",
            "500/500 [==============================] - 2s 4ms/step - loss: 0.6993 - accuracy: 0.7527 - val_loss: 0.8221 - val_accuracy: 0.7211\n"
          ]
        }
      ]
    },
    {
      "cell_type": "markdown",
      "source": [
        "# 3. Exercise: evaluation on test data\n",
        "You will evaluate the classification of the test data using the common metrics and the confusion matrix in this section.\n",
        "\n",
        "\n",
        "As a first stes, let's run the predictions and convert the predicted softmax outputs to dense labels. The one-hot encoded labels are also converted back to dense labels, as they are required for the evaluation functions."
      ],
      "metadata": {
        "id": "2FtKp-a2-A9m"
      }
    },
    {
      "cell_type": "code",
      "source": [
        "probas = model.predict(X_test)\n",
        "preds  = np.argmax(probas,axis=1)\n",
        "Y_test_dense = np.argmax(Y_test, axis=1) # get the original dense labels of the test data"
      ],
      "metadata": {
        "id": "EcWAqwlDMq3y",
        "colab": {
          "base_uri": "https://localhost:8080/"
        },
        "outputId": "f5cf7782-052a-4029-f9fd-b7165bda5e51"
      },
      "execution_count": null,
      "outputs": [
        {
          "output_type": "stream",
          "name": "stdout",
          "text": [
            "313/313 [==============================] - 1s 2ms/step\n"
          ]
        }
      ]
    },
    {
      "cell_type": "markdown",
      "source": [
        "## 3.1. Exercise: Metrics\n",
        "please review the common classification metrics (accuracy, precision, recall, F1) for the complete model (not per class).\n",
        "\n",
        "Hints:\n",
        "* use macro averaging\n",
        "* you have to import the right functions from [sklearn.metrics](https://scikit-learn.org/stable/modules/model_evaluation.html)\n"
      ],
      "metadata": {
        "id": "RWJ-PH_iMs9K"
      }
    },
    {
      "cell_type": "code",
      "source": [
        "from sklearn.metrics import accuracy_score, precision_score, recall_score, f1_score, confusion_matrix"
      ],
      "metadata": {
        "id": "5sKm5zHSMZ_x"
      },
      "execution_count": null,
      "outputs": []
    },
    {
      "cell_type": "code",
      "source": [
        "y_test_labels = np.argmax(Y_test, axis=1)\n",
        "predictions = model.predict(X_test)\n",
        "predicted_classes = np.argmax(predictions, axis=1)\n",
        "\n",
        "print(\"Accuracy:\", accuracy_score(y_test_labels, predicted_classes))\n",
        "print(\"Precision:\", precision_score(y_test_labels, predicted_classes, average='macro'))\n",
        "print(\"Recall:\", recall_score(y_test_labels, predicted_classes, average='macro'))\n",
        "print(\"F1:\", f1_score(y_test_labels, predicted_classes, average='macro'))"
      ],
      "metadata": {
        "id": "I3_9wgDREUna",
        "colab": {
          "base_uri": "https://localhost:8080/"
        },
        "outputId": "0a668e5b-5cd7-47a5-a4bf-9ea15c0def9b"
      },
      "execution_count": null,
      "outputs": [
        {
          "output_type": "stream",
          "name": "stdout",
          "text": [
            "313/313 [==============================] - 1s 2ms/step\n",
            "Accuracy: 0.7292\n",
            "Precision: 0.7309673564004753\n",
            "Recall: 0.7291999999999998\n",
            "F1: 0.7289621853400317\n"
          ]
        }
      ]
    },
    {
      "cell_type": "markdown",
      "source": [
        "\n",
        "## 3.2. Exercise: Confusion matrix\n",
        "Calculate the confusion matrix and display the results in a heatmap (with decimal values).\n",
        "\n",
        "Hints:\n",
        "* you have to do the imports this time too, e.g. from [sklearn.metrics](https://scikit-learn.org/stable/modules/model_evaluation.html) and the [heatmap function](https://seaborn.pydata.org/generated/seaborn.heatmap.html) of [seaborn](https://seaborn.pydata.org/)\n",
        "* for displaying the decimal values, you have to turn annot=True and define fmt='d' in the heatmap function of seaborn"
      ],
      "metadata": {
        "id": "ECHguBFtGL7f"
      }
    },
    {
      "cell_type": "code",
      "source": [
        "from sklearn.metrics import confusion_matrix\n",
        "import seaborn as sns"
      ],
      "metadata": {
        "id": "SIi2VzMBO3yD"
      },
      "execution_count": null,
      "outputs": []
    },
    {
      "cell_type": "code",
      "metadata": {
        "id": "cdqODx92Svw7"
      },
      "source": [
        "conf_matrix = confusion_matrix(y_test_labels, predicted_classes)\n",
        "\n",
        "plt.figure(figsize=(7,6))\n",
        "sns.heatmap(conf_matrix, annot=True, fmt='d', cmap='Blues')\n",
        "plt.xlabel('Predicted Label')\n",
        "plt.ylabel('True Label')\n",
        "plt.title('Confusion Matrix')\n",
        "plt.show()"
      ],
      "execution_count": null,
      "outputs": []
    }
  ]
}